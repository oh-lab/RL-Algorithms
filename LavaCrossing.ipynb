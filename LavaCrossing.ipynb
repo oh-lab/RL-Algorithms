{
  "nbformat": 4,
  "nbformat_minor": 0,
  "metadata": {
    "colab": {
      "provenance": []
    },
    "kernelspec": {
      "name": "python3",
      "display_name": "Python 3"
    },
    "language_info": {
      "name": "python"
    }
  },
  "cells": [
    {
      "cell_type": "markdown",
      "source": [
        "\n",
        "\n",
        "# TEAM PROJECT\n",
        "\n",
        "> Install packages\n",
        "\n",
        "\n",
        "\n",
        "\n"
      ],
      "metadata": {
        "id": "BDj3NVUAkuGr"
      }
    },
    {
      "cell_type": "code",
      "execution_count": 1,
      "metadata": {
        "colab": {
          "base_uri": "https://localhost:8080/"
        },
        "id": "tCUL6rT54GHC",
        "outputId": "859c407f-bd33-42f6-94ca-1268028b2e0c"
      },
      "outputs": [
        {
          "output_type": "stream",
          "name": "stdout",
          "text": [
            "Requirement already satisfied: gym-minigrid in /usr/local/lib/python3.12/dist-packages (1.2.2)\n",
            "Requirement already satisfied: minigrid in /usr/local/lib/python3.12/dist-packages (3.0.0)\n",
            "Requirement already satisfied: gym>=0.26 in /usr/local/lib/python3.12/dist-packages (from gym-minigrid) (0.26.2)\n",
            "Requirement already satisfied: numpy>=1.18.0 in /usr/local/lib/python3.12/dist-packages (from gym-minigrid) (2.0.2)\n",
            "Requirement already satisfied: matplotlib>=3.0 in /usr/local/lib/python3.12/dist-packages (from gym-minigrid) (3.10.0)\n",
            "Requirement already satisfied: gymnasium>=0.28.1 in /usr/local/lib/python3.12/dist-packages (from minigrid) (1.2.0)\n",
            "Requirement already satisfied: pygame>=2.4.0 in /usr/local/lib/python3.12/dist-packages (from minigrid) (2.6.1)\n",
            "Requirement already satisfied: cloudpickle>=1.2.0 in /usr/local/lib/python3.12/dist-packages (from gym>=0.26->gym-minigrid) (3.1.1)\n",
            "Requirement already satisfied: gym_notices>=0.0.4 in /usr/local/lib/python3.12/dist-packages (from gym>=0.26->gym-minigrid) (0.1.0)\n",
            "Requirement already satisfied: typing-extensions>=4.3.0 in /usr/local/lib/python3.12/dist-packages (from gymnasium>=0.28.1->minigrid) (4.15.0)\n",
            "Requirement already satisfied: farama-notifications>=0.0.1 in /usr/local/lib/python3.12/dist-packages (from gymnasium>=0.28.1->minigrid) (0.0.4)\n",
            "Requirement already satisfied: contourpy>=1.0.1 in /usr/local/lib/python3.12/dist-packages (from matplotlib>=3.0->gym-minigrid) (1.3.3)\n",
            "Requirement already satisfied: cycler>=0.10 in /usr/local/lib/python3.12/dist-packages (from matplotlib>=3.0->gym-minigrid) (0.12.1)\n",
            "Requirement already satisfied: fonttools>=4.22.0 in /usr/local/lib/python3.12/dist-packages (from matplotlib>=3.0->gym-minigrid) (4.59.2)\n",
            "Requirement already satisfied: kiwisolver>=1.3.1 in /usr/local/lib/python3.12/dist-packages (from matplotlib>=3.0->gym-minigrid) (1.4.9)\n",
            "Requirement already satisfied: packaging>=20.0 in /usr/local/lib/python3.12/dist-packages (from matplotlib>=3.0->gym-minigrid) (25.0)\n",
            "Requirement already satisfied: pillow>=8 in /usr/local/lib/python3.12/dist-packages (from matplotlib>=3.0->gym-minigrid) (11.3.0)\n",
            "Requirement already satisfied: pyparsing>=2.3.1 in /usr/local/lib/python3.12/dist-packages (from matplotlib>=3.0->gym-minigrid) (3.2.3)\n",
            "Requirement already satisfied: python-dateutil>=2.7 in /usr/local/lib/python3.12/dist-packages (from matplotlib>=3.0->gym-minigrid) (2.9.0.post0)\n",
            "Requirement already satisfied: six>=1.5 in /usr/local/lib/python3.12/dist-packages (from python-dateutil>=2.7->matplotlib>=3.0->gym-minigrid) (1.17.0)\n"
          ]
        }
      ],
      "source": [
        "!pip install gym-minigrid minigrid"
      ]
    },
    {
      "cell_type": "markdown",
      "source": [
        "> Import packages"
      ],
      "metadata": {
        "id": "8R7oXumekzD7"
      }
    },
    {
      "cell_type": "code",
      "source": [
        "import gymnasium as gym\n",
        "import minigrid\n",
        "import torch\n",
        "import torch.nn as nn\n",
        "import torch.optim as optim\n",
        "import numpy as np\n",
        "import random\n",
        "from collections import deque\n",
        "from copy import deepcopy\n",
        "import matplotlib.pyplot as plt"
      ],
      "metadata": {
        "id": "ioBQBGwyJ_d0"
      },
      "execution_count": 2,
      "outputs": []
    },
    {
      "cell_type": "code",
      "source": [
        "def set_seed(seed: int, env=None):\n",
        "    import random, numpy as np, torch\n",
        "\n",
        "    random.seed(seed)\n",
        "    np.random.seed(seed)\n",
        "    torch.manual_seed(seed)\n",
        "    torch.cuda.manual_seed_all(seed)\n",
        "\n",
        "    torch.backends.cudnn.deterministic = True\n",
        "    torch.backends.cudnn.benchmark = False\n",
        "\n",
        "    if env is not None:\n",
        "        env.reset(seed=seed)\n",
        "        env.action_space.seed(seed)          # Discrete에도 정상 적용\n",
        "        env.observation_space.seed(seed)"
      ],
      "metadata": {
        "id": "9wSasccRXixV"
      },
      "execution_count": 3,
      "outputs": []
    },
    {
      "cell_type": "markdown",
      "source": [
        "## Training Environment"
      ],
      "metadata": {
        "id": "47UwZV2Fk1z8"
      }
    },
    {
      "cell_type": "code",
      "source": [
        "env = gym.make(\"MiniGrid-LavaCrossingS9N1-v0\", render_mode=\"rgb_array\")\n",
        "obs, info = env.reset(seed=1)\n",
        "\n",
        "frame = env.render()  # numpy array (H, W, 3)\n",
        "\n",
        "plt.imshow(frame)\n",
        "plt.axis(\"off\")\n",
        "plt.title(\"MiniGrid-LavaCrossingS9N1-v0\")\n",
        "plt.show()\n",
        "\n",
        "env.close()"
      ],
      "metadata": {
        "colab": {
          "base_uri": "https://localhost:8080/",
          "height": 428
        },
        "id": "r0q11LMUXH_2",
        "outputId": "d112b2f5-6fb7-4aeb-9a0c-f341d2795cae"
      },
      "execution_count": 21,
      "outputs": [
        {
          "output_type": "display_data",
          "data": {
            "text/plain": [
              "<Figure size 640x480 with 1 Axes>"
            ],
            "image/png": "[encoded data removed]"
          },
          "metadata": {}
        }
      ]
    },
    {
      "cell_type": "code",
      "source": [
        "class CNNQNetwork(nn.Module):\n",
        "    def __init__(self, output_dim):\n",
        "        super().__init__()\n",
        "        self.conv = nn.Sequential(\n",
        "            nn.Conv2d(3, 32, kernel_size=3, stride=1), nn.ReLU(),\n",
        "            nn.Conv2d(32, 64, kernel_size=3, stride=1), nn.ReLU(),\n",
        "            nn.Flatten()\n",
        "        )\n",
        "        # obs[\"image\"] shape = (7,7,3)\n",
        "        dummy = torch.zeros(1, 3, 7, 7)  # (B,C,H,W)\n",
        "        conv_out_dim = self.conv(dummy).shape[1]\n",
        "\n",
        "        self.fc = nn.Sequential(\n",
        "            nn.Linear(conv_out_dim, 128), nn.ReLU(),\n",
        "            nn.Linear(128, output_dim)\n",
        "        )\n",
        "\n",
        "    def forward(self, x):\n",
        "        # x: (B,H,W,C) → (B,C,H,W)\n",
        "        if x.ndim == 3:\n",
        "            x = x.unsqueeze(0)\n",
        "        x = x.permute(0, 3, 1, 2).float() / 255.0\n",
        "        z = self.conv(x)\n",
        "        return self.fc(z)"
      ],
      "metadata": {
        "id": "-uIoYjzuUzX3"
      },
      "execution_count": 22,
      "outputs": []
    },
    {
      "cell_type": "code",
      "source": [
        "class DQNAgent:\n",
        "    def __init__(self, q_network, optimizer, output_dim,\n",
        "                 epsilon_start=1.0, epsilon_final=0.05, epsilon_decay=0.995,\n",
        "                 target_update=100, batch_size=64, memory_capacity=50000,\n",
        "                 gamma=0.99, tau=1.0):\n",
        "        self.q_network = q_network\n",
        "        self.target_network = deepcopy(q_network)\n",
        "        self.target_network.eval()\n",
        "        self.optimizer = optimizer\n",
        "\n",
        "        self.output_dim = output_dim\n",
        "        self.epsilon = epsilon_start\n",
        "        self.epsilon_final = epsilon_final\n",
        "        self.epsilon_decay = epsilon_decay\n",
        "        self.target_update = target_update\n",
        "        self.batch_size = batch_size\n",
        "        self.gamma = gamma\n",
        "        self.tau = tau\n",
        "\n",
        "        self.memory = deque(maxlen=memory_capacity)\n",
        "        self.steps = 0\n",
        "        self.criterion = nn.MSELoss()\n",
        "\n",
        "    def select_action(self, state):\n",
        "        if random.random() < self.epsilon:\n",
        "            return random.randint(0, self.output_dim - 1)\n",
        "        s = torch.tensor(state[\"image\"], dtype=torch.float32)\n",
        "        with torch.no_grad():\n",
        "            q_values = self.q_network(s)\n",
        "        return q_values.argmax().item()\n",
        "\n",
        "    def store(self, state, action, reward, next_state, done):\n",
        "        self.memory.append((state[\"image\"], action, reward, next_state[\"image\"], done))\n",
        "\n",
        "    def train(self):\n",
        "        if len(self.memory) < self.batch_size:\n",
        "            return\n",
        "\n",
        "        batch = random.sample(self.memory, self.batch_size)\n",
        "        states, actions, rewards, next_states, dones = zip(*batch)\n",
        "\n",
        "        states = torch.tensor(np.array(states), dtype=torch.float32)\n",
        "        next_states = torch.tensor(np.array(next_states), dtype=torch.float32)\n",
        "        actions = torch.LongTensor(actions)\n",
        "        rewards = torch.FloatTensor(rewards)\n",
        "        dones = torch.FloatTensor(dones)\n",
        "\n",
        "        q_values = self.q_network(states).gather(1, actions.unsqueeze(1)).squeeze()\n",
        "\n",
        "        with torch.no_grad():\n",
        "            next_q_values = self.target_network(next_states).max(1).values\n",
        "        expected_q = rewards + self.gamma * next_q_values * (1 - dones)\n",
        "\n",
        "        loss = self.criterion(q_values, expected_q)\n",
        "\n",
        "        self.optimizer.zero_grad()\n",
        "        loss.backward()\n",
        "        nn.utils.clip_grad_norm_(self.q_network.parameters(), 10.0)\n",
        "        self.optimizer.step()\n",
        "\n",
        "        self.epsilon = max(self.epsilon_final, self.epsilon * self.epsilon_decay)\n",
        "        self.steps += 1\n",
        "\n",
        "        if self.steps % self.target_update == 0:\n",
        "            for t, q in zip(self.target_network.parameters(), self.q_network.parameters()):\n",
        "                t.data.copy_(t.data * (1 - self.tau) + q.data * self.tau)"
      ],
      "metadata": {
        "id": "LC4zCI1_W5LI"
      },
      "execution_count": 27,
      "outputs": []
    },
    {
      "cell_type": "code",
      "source": [
        "env = gym.make(\"MiniGrid-LavaCrossingS9N1-v0\", render_mode=\"rgb_array\")\n",
        "set_seed(1, env)\n",
        "output_dim = env.action_space.n\n",
        "q_net = CNNQNetwork(output_dim)\n",
        "optimizer = optim.Adam(q_net.parameters(), lr=1e-3)\n",
        "agent = DQNAgent(\n",
        "    q_net,\n",
        "    optimizer,\n",
        "    output_dim=output_dim,\n",
        "    epsilon_start=1.0,\n",
        "    epsilon_final=0.05,\n",
        "    epsilon_decay=0.995,\n",
        "    target_update=100,\n",
        "    batch_size=64,\n",
        "    memory_capacity=50_000,\n",
        "    gamma=0.99,\n",
        "    tau=1.0\n",
        ")"
      ],
      "metadata": {
        "id": "bHtJwHLSY3Vz"
      },
      "execution_count": 28,
      "outputs": []
    },
    {
      "cell_type": "code",
      "source": [
        "num_episodes=100\n",
        "max_steps=env.unwrapped.max_steps\n",
        "\n",
        "for ep in range(num_episodes):\n",
        "    state, _ = env.reset(seed=1)\n",
        "    total_reward = 0\n",
        "    steps = 0\n",
        "    for t in range(max_steps):\n",
        "        steps += 1\n",
        "        action = agent.select_action(state)\n",
        "        next_state, reward, terminated, truncated, info = env.step(action)\n",
        "        done = terminated or truncated\n",
        "\n",
        "        agent.store(state, action, reward, next_state, float(done))\n",
        "        agent.train()\n",
        "\n",
        "        state = next_state\n",
        "        total_reward += reward\n",
        "\n",
        "        if done:\n",
        "            break\n",
        "\n",
        "    ### If you want to check how the episode ended, please activate the code below. ###\n",
        "    # frame = env.render()\n",
        "\n",
        "    # plt.imshow(frame)\n",
        "    # plt.axis(\"off\")\n",
        "    # plt.title(\"MiniGrid-LavaCrossingS9N1-v0\")\n",
        "    # plt.show()\n",
        "\n",
        "    print(f\"Episode {ep+1:3d} | Reward: {total_reward:.2f} | Epsilon: {agent.epsilon:.3f} | Steps: {steps:.3f}\")"
      ],
      "metadata": {
        "id": "FJyy5qXei3gH"
      },
      "execution_count": null,
      "outputs": []
    },
    {
      "cell_type": "markdown",
      "source": [
        "## Save Parameters"
      ],
      "metadata": {
        "id": "n4hzbBqppK2l"
      }
    },
    {
      "cell_type": "code",
      "source": [
        "torch.save(agent.q_network.state_dict(), \"dqn_minigrid.pth\")\n",
        "print(\"Agent saved as dqn_minigrid.pth\")"
      ],
      "metadata": {
        "id": "g76KpJd_pGqT"
      },
      "execution_count": null,
      "outputs": []
    },
    {
      "cell_type": "markdown",
      "source": [
        "## Load Parameters"
      ],
      "metadata": {
        "id": "bEtRos5ki-kg"
      }
    },
    {
      "cell_type": "code",
      "source": [
        "q_net_loaded = CNNQNetwork(env.action_space.n)\n",
        "q_net_loaded.load_state_dict(torch.load(\"dqn_minigrid.pth\"))\n",
        "q_net_loaded.eval()\n"
      ],
      "metadata": {
        "id": "0I6KuOHDpYZP"
      },
      "execution_count": null,
      "outputs": []
    },
    {
      "cell_type": "code",
      "source": [
        "# load agent\n",
        "optimizer = optim.Adam(q_net.parameters(), lr=1e-3)\n",
        "agent_loaded = DQNAgent(q_net_loaded, optimizer, output_dim=output_dim)"
      ],
      "metadata": {
        "id": "PZ0ZwlDEplz4"
      },
      "execution_count": 38,
      "outputs": []
    },
    {
      "cell_type": "markdown",
      "source": [
        "## Evaluation Environment"
      ],
      "metadata": {
        "id": "EPeYxTxUpz08"
      }
    },
    {
      "cell_type": "code",
      "source": [
        "env = gym.make(\"MiniGrid-LavaCrossingS9N3-v0\", render_mode=\"rgb_array\")\n",
        "obs, info = env.reset(seed=2)\n",
        "\n",
        "frame = env.render()  # numpy array (H, W, 3)\n",
        "\n",
        "plt.imshow(frame)\n",
        "plt.axis(\"off\")\n",
        "plt.title(\"MiniGrid-LavaCrossingS9N3-v0\")\n",
        "plt.show()\n",
        "\n",
        "env.close()"
      ],
      "metadata": {
        "colab": {
          "base_uri": "https://localhost:8080/",
          "height": 428
        },
        "id": "LasdO-FOhBZP",
        "outputId": "e090394e-0f4c-4bea-e140-5c23b1233a27"
      },
      "execution_count": 43,
      "outputs": [
        {
          "output_type": "display_data",
          "data": {
            "text/plain": [
              "<Figure size 640x480 with 1 Axes>"
            ],
            "image/png": "[encoded data removed]"
          },
          "metadata": {}
        }
      ]
    },
    {
      "cell_type": "code",
      "source": [
        "eval_env = gym.make(\"MiniGrid-LavaCrossingS9N3-v0\", render_mode=\"rgb_array\")\n",
        "set_seed(2, eval_env)\n",
        "\n",
        "num_eval_episodes = 100\n",
        "max_steps = eval_env.unwrapped.max_steps\n",
        "\n",
        "sum_reward = 0\n",
        "\n",
        "for i in range(num_eval_episodes):\n",
        "    state, _ = eval_env.reset(seed=2)\n",
        "    total_reward = 0\n",
        "    steps = 0\n",
        "\n",
        "    while True:\n",
        "        steps += 1\n",
        "        saved_epsilon = agent_loaded.epsilon\n",
        "        agent_loaded.epsilon = 0.1\n",
        "        action = agent_loaded.select_action(state)\n",
        "        agent_loaded.epsilon = saved_epsilon\n",
        "\n",
        "        next_state, reward, terminated, truncated, info = eval_env.step(action)\n",
        "        total_reward += reward\n",
        "        state = next_state\n",
        "\n",
        "        if terminated or truncated or steps >= max_steps:\n",
        "            break\n",
        "    sum_reward += total_reward\n",
        "    print(f\"[Eval Ep {i+1}] Reward: {total_reward:.2f} | Steps: {steps}\")\n",
        "    frame = eval_env.render()\n",
        "\n",
        "    plt.imshow(frame)\n",
        "    plt.axis(\"off\")\n",
        "    plt.title(\"MiniGrid-LavaCrossingS9N1-v0\")\n",
        "    plt.show()\n",
        "eval_env.close()\n",
        "\n",
        "print(f\"Evaluation: {sum_reward}\")"
      ],
      "metadata": {
        "id": "ORtmS2p3f_aA"
      },
      "execution_count": null,
      "outputs": []
    },
    {
      "cell_type": "code",
      "source": [],
      "metadata": {
        "id": "VDtD0vj4iENP"
      },
      "execution_count": null,
      "outputs": []
    }
  ]
}